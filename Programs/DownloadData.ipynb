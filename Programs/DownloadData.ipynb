{
 "cells": [
  {
   "cell_type": "code",
   "execution_count": 1,
   "metadata": {},
   "outputs": [],
   "source": [
    "%matplotlib notebook\n",
    "import pandas as pd\n",
    "import numpy as np\n",
    "from scipy import stats\n",
    "import os\n",
    "\n",
    "from sys import argv\n",
    "import urllib\n",
    "import zipfile\n"
   ]
  },
  {
   "cell_type": "code",
   "execution_count": 2,
   "metadata": {},
   "outputs": [],
   "source": [
    "# The URL where we pull data NHIS data from\n",
    "u1 = 'ftp://ftp.cdc.gov/pub/Health_Statistics/NCHS/Datasets/NHIS/'\n",
    "\n",
    "# The names of the survey datasets we want to pull\n",
    "surveys = ['familyxx', 'househld', 'personsx', 'samchild', 'samadult']\n",
    "\n",
    "# The path name where we wish to store all data\n",
    "top_data_path = os.path.join('..','data')"
   ]
  },
  {
   "cell_type": "code",
   "execution_count": 3,
   "metadata": {},
   "outputs": [
    {
     "ename": "SyntaxError",
     "evalue": "Missing parentheses in call to 'print'. Did you mean print(\"Downloading %s ... ...\" %target)? (<ipython-input-3-97f89a135dd9>, line 28)",
     "output_type": "error",
     "traceback": [
      "\u001b[1;36m  File \u001b[1;32m\"<ipython-input-3-97f89a135dd9>\"\u001b[1;36m, line \u001b[1;32m28\u001b[0m\n\u001b[1;33m    print \"Downloading %s ... ...\" %target\u001b[0m\n\u001b[1;37m                                 ^\u001b[0m\n\u001b[1;31mSyntaxError\u001b[0m\u001b[1;31m:\u001b[0m Missing parentheses in call to 'print'. Did you mean print(\"Downloading %s ... ...\" %target)?\n"
     ]
    }
   ],
   "source": [
    "# Create a function to pull down a year's worth of data. \n",
    "def get_year_data(year):\n",
    "    \n",
    "    #  Create a directory to hold the data (if necessary)\n",
    "    if not os.path.exists(top_data_path,str(year)):\n",
    "        os.mkdir(top_data_path,str(year))\n",
    "        \n",
    "    # In 2009 and prior years, data were output in self-extracting zip files with .exe extension\n",
    "    if year <=2009:\n",
    "        ext = '.exe'\n",
    "    \n",
    "    # In 2010 and later years, data were output in zip files\n",
    "    else:\n",
    "        ext = '.zip'\n",
    "\n",
    "    # Loop through the list of survey and create the URL to the FTP site for that year\n",
    "    for s in range(len(surveys)):\n",
    "        \n",
    "        # 2004 had a slight difference\n",
    "        if year==2004:\n",
    "            target = u1 + str(year) + '/' + dirs[s] + '/' + surveys[s] + ext\n",
    "        else:\n",
    "            target = u1 + str(year) + '/' + surveys[s] + ext\n",
    "\n",
    "        response = os.path.join(top_data_path,str(year),surveys[s],exts)\n",
    "\n",
    "        #---- DOWNLOAD ----#\n",
    "        print \"Downloading %s ... ...\" %target\n",
    "        urllib.urlretrieve(target, response)\n",
    "\n",
    "        #---- RENAME ----#\n",
    "        outpath = OUTDIR + 'Data/raw/' + str(year) + '/'\n",
    "        upname  = outpath + surveys[s].upper() + '.DAT'\n",
    "        midname = outpath + surveys[s].upper() + '.dat'\n",
    "        lowname = outpath + surveys[s] + '.dat'\n",
    "\n",
    "        #---- UNZIP ----#\n",
    "        fz = open(response, 'rb')\n",
    "        z = zipfile.ZipFile(fz)\n",
    "        for name in z.namelist():\n",
    "            z.extract(name, outpath)\n",
    "        fz.close()\n",
    "\n",
    "        #---- NAME AS LOWER CASE ----#\n",
    "        if os.path.isfile(upname):\n",
    "            os.rename(upname, lowname)\n",
    "        if os.path.isfile(midname):\n",
    "            os.rename(midname, lowname)\n"
   ]
  },
  {
   "cell_type": "code",
   "execution_count": null,
   "metadata": {},
   "outputs": [],
   "source": []
  },
  {
   "cell_type": "code",
   "execution_count": null,
   "metadata": {},
   "outputs": [],
   "source": [
    "\n",
    "#-------------------------------------------------------------------------------\n",
    "#--- (4) Downloading Source\n",
    "#-------------------------------------------------------------------------------\n",
    "source  = dcc + 'Source.zip?attredirects=0&d=1'\n",
    "outpath = OUTDIR + 'Source/'\n",
    "local   = OUTDIR + 'Source/' + 'Source.zip'\n",
    "\n",
    "if not os.path.exists(outpath):\n",
    "    os.mkdir(outpath)\n",
    "\n",
    "\n",
    "urllib.urlretrieve(source, local)\n",
    "fz = open(local, 'rb')\n",
    "z = zipfile.ZipFile(fz)\n",
    "for name in z.namelist():\n",
    "    z.extract(name, outpath)\n",
    "fz.close()\n",
    "        "
   ]
  }
 ],
 "metadata": {
  "kernelspec": {
   "display_name": "Python 3",
   "language": "python",
   "name": "python3"
  },
  "language_info": {
   "codemirror_mode": {
    "name": "ipython",
    "version": 3
   },
   "file_extension": ".py",
   "mimetype": "text/x-python",
   "name": "python",
   "nbconvert_exporter": "python",
   "pygments_lexer": "ipython3",
   "version": "3.7.3"
  }
 },
 "nbformat": 4,
 "nbformat_minor": 2
}
