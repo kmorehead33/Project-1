{
 "cells": [
  {
   "cell_type": "code",
   "execution_count": 1,
   "metadata": {},
   "outputs": [],
   "source": [
    "%matplotlib notebook\n",
    "import pandas as pd\n",
    "from scipy import stats"
   ]
  },
  {
   "cell_type": "code",
   "execution_count": 2,
   "metadata": {},
   "outputs": [],
   "source": [
    "family_data = '../data/2017/familyxx.csv'"
   ]
  },
  {
   "cell_type": "code",
   "execution_count": 3,
   "metadata": {},
   "outputs": [],
   "source": [
    "family_data_df = pd.read_csv(family_data)"
   ]
  },
  {
   "cell_type": "code",
   "execution_count": 4,
   "metadata": {},
   "outputs": [
    {
     "data": {
      "text/html": [
       "<div>\n",
       "<style scoped>\n",
       "    .dataframe tbody tr th:only-of-type {\n",
       "        vertical-align: middle;\n",
       "    }\n",
       "\n",
       "    .dataframe tbody tr th {\n",
       "        vertical-align: top;\n",
       "    }\n",
       "\n",
       "    .dataframe thead th {\n",
       "        text-align: right;\n",
       "    }\n",
       "</style>\n",
       "<table border=\"1\" class=\"dataframe\">\n",
       "  <thead>\n",
       "    <tr style=\"text-align: right;\">\n",
       "      <th></th>\n",
       "      <th>FINT_Y_P</th>\n",
       "      <th>FINT_M_P</th>\n",
       "      <th>FMX</th>\n",
       "      <th>RECTYPE</th>\n",
       "      <th>SRVY_YR</th>\n",
       "      <th>HHX</th>\n",
       "      <th>FM_SIZE</th>\n",
       "      <th>FM_STRCP</th>\n",
       "      <th>FM_TYPE</th>\n",
       "      <th>FM_STRP</th>\n",
       "      <th>...</th>\n",
       "      <th>COVCONF</th>\n",
       "      <th>FHICOST</th>\n",
       "      <th>FMEDBILL</th>\n",
       "      <th>FMEDBPAY</th>\n",
       "      <th>FMEDBNOP</th>\n",
       "      <th>FSAF</th>\n",
       "      <th>FHICOVCT</th>\n",
       "      <th>FHICOVYN</th>\n",
       "      <th>FPRCOOH</th>\n",
       "      <th>FHIEBCCT</th>\n",
       "    </tr>\n",
       "  </thead>\n",
       "  <tbody>\n",
       "    <tr>\n",
       "      <th>0</th>\n",
       "      <td>2017</td>\n",
       "      <td>2</td>\n",
       "      <td>1</td>\n",
       "      <td>60</td>\n",
       "      <td>2017</td>\n",
       "      <td>3</td>\n",
       "      <td>1</td>\n",
       "      <td>11</td>\n",
       "      <td>1</td>\n",
       "      <td>11</td>\n",
       "      <td>...</td>\n",
       "      <td>NaN</td>\n",
       "      <td>1</td>\n",
       "      <td>2</td>\n",
       "      <td>2</td>\n",
       "      <td>NaN</td>\n",
       "      <td>2</td>\n",
       "      <td>1</td>\n",
       "      <td>1</td>\n",
       "      <td>2.0</td>\n",
       "      <td>0.0</td>\n",
       "    </tr>\n",
       "    <tr>\n",
       "      <th>1</th>\n",
       "      <td>2017</td>\n",
       "      <td>4</td>\n",
       "      <td>1</td>\n",
       "      <td>60</td>\n",
       "      <td>2017</td>\n",
       "      <td>8</td>\n",
       "      <td>2</td>\n",
       "      <td>31</td>\n",
       "      <td>3</td>\n",
       "      <td>31</td>\n",
       "      <td>...</td>\n",
       "      <td>NaN</td>\n",
       "      <td>0</td>\n",
       "      <td>2</td>\n",
       "      <td>2</td>\n",
       "      <td>NaN</td>\n",
       "      <td>2</td>\n",
       "      <td>2</td>\n",
       "      <td>1</td>\n",
       "      <td>NaN</td>\n",
       "      <td>NaN</td>\n",
       "    </tr>\n",
       "    <tr>\n",
       "      <th>2</th>\n",
       "      <td>2017</td>\n",
       "      <td>3</td>\n",
       "      <td>1</td>\n",
       "      <td>60</td>\n",
       "      <td>2017</td>\n",
       "      <td>9</td>\n",
       "      <td>1</td>\n",
       "      <td>11</td>\n",
       "      <td>1</td>\n",
       "      <td>11</td>\n",
       "      <td>...</td>\n",
       "      <td>4.0</td>\n",
       "      <td>1</td>\n",
       "      <td>2</td>\n",
       "      <td>2</td>\n",
       "      <td>NaN</td>\n",
       "      <td>2</td>\n",
       "      <td>1</td>\n",
       "      <td>1</td>\n",
       "      <td>NaN</td>\n",
       "      <td>1.0</td>\n",
       "    </tr>\n",
       "    <tr>\n",
       "      <th>3</th>\n",
       "      <td>2017</td>\n",
       "      <td>3</td>\n",
       "      <td>1</td>\n",
       "      <td>60</td>\n",
       "      <td>2017</td>\n",
       "      <td>11</td>\n",
       "      <td>4</td>\n",
       "      <td>44</td>\n",
       "      <td>4</td>\n",
       "      <td>44</td>\n",
       "      <td>...</td>\n",
       "      <td>4.0</td>\n",
       "      <td>9</td>\n",
       "      <td>2</td>\n",
       "      <td>2</td>\n",
       "      <td>NaN</td>\n",
       "      <td>1</td>\n",
       "      <td>4</td>\n",
       "      <td>1</td>\n",
       "      <td>2.0</td>\n",
       "      <td>4.0</td>\n",
       "    </tr>\n",
       "    <tr>\n",
       "      <th>4</th>\n",
       "      <td>2017</td>\n",
       "      <td>1</td>\n",
       "      <td>1</td>\n",
       "      <td>60</td>\n",
       "      <td>2017</td>\n",
       "      <td>15</td>\n",
       "      <td>1</td>\n",
       "      <td>11</td>\n",
       "      <td>1</td>\n",
       "      <td>11</td>\n",
       "      <td>...</td>\n",
       "      <td>2.0</td>\n",
       "      <td>2</td>\n",
       "      <td>2</td>\n",
       "      <td>2</td>\n",
       "      <td>NaN</td>\n",
       "      <td>2</td>\n",
       "      <td>1</td>\n",
       "      <td>1</td>\n",
       "      <td>2.0</td>\n",
       "      <td>1.0</td>\n",
       "    </tr>\n",
       "  </tbody>\n",
       "</table>\n",
       "<p>5 rows × 127 columns</p>\n",
       "</div>"
      ],
      "text/plain": [
       "   FINT_Y_P  FINT_M_P  FMX  RECTYPE  SRVY_YR  HHX  FM_SIZE  FM_STRCP  FM_TYPE  \\\n",
       "0      2017         2    1       60     2017    3        1        11        1   \n",
       "1      2017         4    1       60     2017    8        2        31        3   \n",
       "2      2017         3    1       60     2017    9        1        11        1   \n",
       "3      2017         3    1       60     2017   11        4        44        4   \n",
       "4      2017         1    1       60     2017   15        1        11        1   \n",
       "\n",
       "   FM_STRP  ...  COVCONF  FHICOST  FMEDBILL  FMEDBPAY  FMEDBNOP  FSAF  \\\n",
       "0       11  ...      NaN        1         2         2       NaN     2   \n",
       "1       31  ...      NaN        0         2         2       NaN     2   \n",
       "2       11  ...      4.0        1         2         2       NaN     2   \n",
       "3       44  ...      4.0        9         2         2       NaN     1   \n",
       "4       11  ...      2.0        2         2         2       NaN     2   \n",
       "\n",
       "   FHICOVCT  FHICOVYN  FPRCOOH  FHIEBCCT  \n",
       "0         1         1      2.0       0.0  \n",
       "1         2         1      NaN       NaN  \n",
       "2         1         1      NaN       1.0  \n",
       "3         4         1      2.0       4.0  \n",
       "4         1         1      2.0       1.0  \n",
       "\n",
       "[5 rows x 127 columns]"
      ]
     },
     "execution_count": 4,
     "metadata": {},
     "output_type": "execute_result"
    }
   ],
   "source": [
    "family_data_df.head()"
   ]
  },
  {
   "cell_type": "code",
   "execution_count": 5,
   "metadata": {},
   "outputs": [
    {
     "data": {
      "text/html": [
       "<div>\n",
       "<style scoped>\n",
       "    .dataframe tbody tr th:only-of-type {\n",
       "        vertical-align: middle;\n",
       "    }\n",
       "\n",
       "    .dataframe tbody tr th {\n",
       "        vertical-align: top;\n",
       "    }\n",
       "\n",
       "    .dataframe thead th {\n",
       "        text-align: right;\n",
       "    }\n",
       "</style>\n",
       "<table border=\"1\" class=\"dataframe\">\n",
       "  <thead>\n",
       "    <tr style=\"text-align: right;\">\n",
       "      <th></th>\n",
       "      <th>RECTYPE</th>\n",
       "      <th>SRVY_YR</th>\n",
       "      <th>HHX</th>\n",
       "      <th>FMX</th>\n",
       "      <th>FM_SIZE</th>\n",
       "      <th>FM_TYPE</th>\n",
       "      <th>FSRUNOUT</th>\n",
       "      <th>FSLAST</th>\n",
       "      <th>WTFA_FAM</th>\n",
       "    </tr>\n",
       "  </thead>\n",
       "  <tbody>\n",
       "    <tr>\n",
       "      <th>0</th>\n",
       "      <td>60</td>\n",
       "      <td>2017</td>\n",
       "      <td>3</td>\n",
       "      <td>1</td>\n",
       "      <td>1</td>\n",
       "      <td>1</td>\n",
       "      <td>3</td>\n",
       "      <td>3</td>\n",
       "      <td>4000</td>\n",
       "    </tr>\n",
       "    <tr>\n",
       "      <th>1</th>\n",
       "      <td>60</td>\n",
       "      <td>2017</td>\n",
       "      <td>8</td>\n",
       "      <td>1</td>\n",
       "      <td>2</td>\n",
       "      <td>3</td>\n",
       "      <td>3</td>\n",
       "      <td>3</td>\n",
       "      <td>3778</td>\n",
       "    </tr>\n",
       "    <tr>\n",
       "      <th>2</th>\n",
       "      <td>60</td>\n",
       "      <td>2017</td>\n",
       "      <td>9</td>\n",
       "      <td>1</td>\n",
       "      <td>1</td>\n",
       "      <td>1</td>\n",
       "      <td>3</td>\n",
       "      <td>3</td>\n",
       "      <td>3143</td>\n",
       "    </tr>\n",
       "    <tr>\n",
       "      <th>3</th>\n",
       "      <td>60</td>\n",
       "      <td>2017</td>\n",
       "      <td>11</td>\n",
       "      <td>1</td>\n",
       "      <td>4</td>\n",
       "      <td>4</td>\n",
       "      <td>3</td>\n",
       "      <td>2</td>\n",
       "      <td>4070</td>\n",
       "    </tr>\n",
       "    <tr>\n",
       "      <th>4</th>\n",
       "      <td>60</td>\n",
       "      <td>2017</td>\n",
       "      <td>15</td>\n",
       "      <td>1</td>\n",
       "      <td>1</td>\n",
       "      <td>1</td>\n",
       "      <td>3</td>\n",
       "      <td>3</td>\n",
       "      <td>4960</td>\n",
       "    </tr>\n",
       "  </tbody>\n",
       "</table>\n",
       "</div>"
      ],
      "text/plain": [
       "   RECTYPE  SRVY_YR  HHX  FMX  FM_SIZE  FM_TYPE  FSRUNOUT  FSLAST  WTFA_FAM\n",
       "0       60     2017    3    1        1        1         3       3      4000\n",
       "1       60     2017    8    1        2        3         3       3      3778\n",
       "2       60     2017    9    1        1        1         3       3      3143\n",
       "3       60     2017   11    1        4        4         3       2      4070\n",
       "4       60     2017   15    1        1        1         3       3      4960"
      ]
     },
     "execution_count": 5,
     "metadata": {},
     "output_type": "execute_result"
    }
   ],
   "source": [
    "family_outdata = family_data_df.loc[:,['RECTYPE','SRVY_YR','HHX','FMX', 'FM_SIZE', 'FM_TYPE', 'FSRUNOUT', 'FSLAST', 'WTFA_FAM']]\n",
    "family_outdata.head()"
   ]
  },
  {
   "cell_type": "code",
   "execution_count": 6,
   "metadata": {},
   "outputs": [],
   "source": [
    "family_outdata['HH with Food Concern due to Money']=0\n",
    "family_outdata['HH with Children']=0\n",
    "\n",
    "for index, row in family_outdata.iterrows():\n",
    "    \n",
    "    if family_outdata.loc[index, 'FSRUNOUT'] in (1,2):\n",
    "        family_outdata.loc[index, 'HH with Food Concern due to Money'] = 1\n",
    "    if family_outdata.loc[index, 'FSLAST'] in (1,2):\n",
    "        family_outdata.loc[index, 'HH with Food Concern due to Money'] = 1\n",
    "    if family_outdata.loc[index, 'FM_TYPE'] in (3,4):\n",
    "        family_outdata.loc[index, 'HH with Children'] = 1\n"
   ]
  },
  {
   "cell_type": "code",
   "execution_count": 7,
   "metadata": {},
   "outputs": [
    {
     "data": {
      "text/plain": [
       "0    28499\n",
       "1     4658\n",
       "Name: HH with Food Concern due to Money, dtype: int64"
      ]
     },
     "execution_count": 7,
     "metadata": {},
     "output_type": "execute_result"
    }
   ],
   "source": [
    "family_outdata['HH with Food Concern due to Money'].value_counts()"
   ]
  },
  {
   "cell_type": "code",
   "execution_count": 8,
   "metadata": {},
   "outputs": [
    {
     "data": {
      "text/plain": [
       "0    23554\n",
       "1     9603\n",
       "Name: HH with Children, dtype: int64"
      ]
     },
     "execution_count": 8,
     "metadata": {},
     "output_type": "execute_result"
    }
   ],
   "source": [
    "family_outdata['HH with Children'].value_counts()"
   ]
  },
  {
   "cell_type": "code",
   "execution_count": 9,
   "metadata": {},
   "outputs": [
    {
     "data": {
      "text/html": [
       "<div>\n",
       "<style scoped>\n",
       "    .dataframe tbody tr th:only-of-type {\n",
       "        vertical-align: middle;\n",
       "    }\n",
       "\n",
       "    .dataframe tbody tr th {\n",
       "        vertical-align: top;\n",
       "    }\n",
       "\n",
       "    .dataframe thead th {\n",
       "        text-align: right;\n",
       "    }\n",
       "</style>\n",
       "<table border=\"1\" class=\"dataframe\">\n",
       "  <thead>\n",
       "    <tr style=\"text-align: right;\">\n",
       "      <th></th>\n",
       "      <th>RECTYPE</th>\n",
       "      <th>SRVY_YR</th>\n",
       "      <th>HHX</th>\n",
       "      <th>FMX</th>\n",
       "      <th>FM_SIZE</th>\n",
       "      <th>FM_TYPE</th>\n",
       "      <th>FSRUNOUT</th>\n",
       "      <th>FSLAST</th>\n",
       "      <th>WTFA_FAM</th>\n",
       "      <th>HH with Food Concern due to Money</th>\n",
       "      <th>HH with Children</th>\n",
       "    </tr>\n",
       "  </thead>\n",
       "  <tbody>\n",
       "    <tr>\n",
       "      <th>0</th>\n",
       "      <td>60</td>\n",
       "      <td>2017</td>\n",
       "      <td>3</td>\n",
       "      <td>1</td>\n",
       "      <td>1</td>\n",
       "      <td>1</td>\n",
       "      <td>3</td>\n",
       "      <td>3</td>\n",
       "      <td>4000</td>\n",
       "      <td>0</td>\n",
       "      <td>0</td>\n",
       "    </tr>\n",
       "    <tr>\n",
       "      <th>1</th>\n",
       "      <td>60</td>\n",
       "      <td>2017</td>\n",
       "      <td>8</td>\n",
       "      <td>1</td>\n",
       "      <td>2</td>\n",
       "      <td>3</td>\n",
       "      <td>3</td>\n",
       "      <td>3</td>\n",
       "      <td>3778</td>\n",
       "      <td>0</td>\n",
       "      <td>1</td>\n",
       "    </tr>\n",
       "    <tr>\n",
       "      <th>2</th>\n",
       "      <td>60</td>\n",
       "      <td>2017</td>\n",
       "      <td>9</td>\n",
       "      <td>1</td>\n",
       "      <td>1</td>\n",
       "      <td>1</td>\n",
       "      <td>3</td>\n",
       "      <td>3</td>\n",
       "      <td>3143</td>\n",
       "      <td>0</td>\n",
       "      <td>0</td>\n",
       "    </tr>\n",
       "    <tr>\n",
       "      <th>3</th>\n",
       "      <td>60</td>\n",
       "      <td>2017</td>\n",
       "      <td>11</td>\n",
       "      <td>1</td>\n",
       "      <td>4</td>\n",
       "      <td>4</td>\n",
       "      <td>3</td>\n",
       "      <td>2</td>\n",
       "      <td>4070</td>\n",
       "      <td>1</td>\n",
       "      <td>1</td>\n",
       "    </tr>\n",
       "    <tr>\n",
       "      <th>4</th>\n",
       "      <td>60</td>\n",
       "      <td>2017</td>\n",
       "      <td>15</td>\n",
       "      <td>1</td>\n",
       "      <td>1</td>\n",
       "      <td>1</td>\n",
       "      <td>3</td>\n",
       "      <td>3</td>\n",
       "      <td>4960</td>\n",
       "      <td>0</td>\n",
       "      <td>0</td>\n",
       "    </tr>\n",
       "  </tbody>\n",
       "</table>\n",
       "</div>"
      ],
      "text/plain": [
       "   RECTYPE  SRVY_YR  HHX  FMX  FM_SIZE  FM_TYPE  FSRUNOUT  FSLAST  WTFA_FAM  \\\n",
       "0       60     2017    3    1        1        1         3       3      4000   \n",
       "1       60     2017    8    1        2        3         3       3      3778   \n",
       "2       60     2017    9    1        1        1         3       3      3143   \n",
       "3       60     2017   11    1        4        4         3       2      4070   \n",
       "4       60     2017   15    1        1        1         3       3      4960   \n",
       "\n",
       "   HH with Food Concern due to Money  HH with Children  \n",
       "0                                  0                 0  \n",
       "1                                  0                 1  \n",
       "2                                  0                 0  \n",
       "3                                  1                 1  \n",
       "4                                  0                 0  "
      ]
     },
     "execution_count": 9,
     "metadata": {},
     "output_type": "execute_result"
    }
   ],
   "source": [
    "family_outdata.head()"
   ]
  },
  {
   "cell_type": "code",
   "execution_count": null,
   "metadata": {},
   "outputs": [],
   "source": [
    "child_data = '../data/2017/samchild.csv'"
   ]
  },
  {
   "cell_type": "code",
   "execution_count": null,
   "metadata": {},
   "outputs": [],
   "source": [
    "child_data_df = pd.read_csv(child_data)\n",
    "child_data_df.head()"
   ]
  },
  {
   "cell_type": "code",
   "execution_count": null,
   "metadata": {},
   "outputs": [],
   "source": [
    "# Look at values of SMKSTAT2 \n",
    "child_data_df['CASSTILL'].value_counts()"
   ]
  },
  {
   "cell_type": "code",
   "execution_count": null,
   "metadata": {},
   "outputs": [],
   "source": [
    "child_outdata = child_data_df.loc[:,['RECTYPE','SRVY_YR','HHX','FMX','FPX','REGION','WTFA_SC','CASHMEV','CASSTILL', 'ADD2N', 'AUTISMN', 'RSCL6']]\n",
    "\n",
    "child_outdata['HH with Asthmatic Child']=0\n",
    "child_outdata['HH with ADHD/ADD Child']=0\n",
    "child_outdata['HH with Autistic Child']=0\n",
    "child_outdata['HH with Child With Concentration/Emotional/Behavior Issues']=0\n",
    "for index, row in child_outdata.iterrows():\n",
    "    \n",
    "    if child_outdata.loc[index,'CASHMEV'] == 1:\n",
    "        child_outdata.loc[index,'HH with Asthmatic Child'] = 1\n",
    "    if child_outdata.loc[index, 'ADD2N'] == 1:\n",
    "        child_outdata.loc[index, 'HH with ADHD/ADD Child'] = 1\n",
    "    if child_outdata.loc[index, 'AUTISMN'] == 1:\n",
    "        child_outdata.loc[index, 'HH with Autistic Child'] = 1\n",
    "    if child_outdata.loc[index, 'RSCL6'] == (1):\n",
    "        child_outdata.loc[index, 'HH with Child With Concentration/Emotional/Behavior Issues'] = 1\n",
    "    elif child_outdata.loc[index, 'RSCL6'] == (2):\n",
    "        child_outdata.loc[index, 'HH with Child With Concentration/Emotional/Behavior Issues'] = 1\n",
    "    elif child_outdata.loc[index, 'RSCL6'] == (3):\n",
    "        child_outdata.loc[index, 'HH with Child With Concentration/Emotional/Behavior Issues'] = 1\n",
    "                \n",
    "        \n",
    "        \n",
    "child_outdata['HH with Asthmatic Child'].value_counts()"
   ]
  },
  {
   "cell_type": "code",
   "execution_count": null,
   "metadata": {},
   "outputs": [],
   "source": [
    "child_outdata['HH with ADHD/ADD Child'].value_counts()"
   ]
  },
  {
   "cell_type": "code",
   "execution_count": null,
   "metadata": {},
   "outputs": [],
   "source": [
    "child_outdata['HH with Autistic Child'].value_counts()"
   ]
  },
  {
   "cell_type": "code",
   "execution_count": null,
   "metadata": {},
   "outputs": [],
   "source": [
    "child_outdata['HH with Child With Concentration/Emotional/Behavior Issues'].value_counts()"
   ]
  },
  {
   "cell_type": "code",
   "execution_count": null,
   "metadata": {},
   "outputs": [],
   "source": [
    "adult_data = '../data/2017/samadult.csv'"
   ]
  },
  {
   "cell_type": "code",
   "execution_count": null,
   "metadata": {},
   "outputs": [],
   "source": [
    "adult_data_df = pd.read_csv(adult_data)\n",
    "adult_data_df.head()"
   ]
  },
  {
   "cell_type": "code",
   "execution_count": null,
   "metadata": {},
   "outputs": [],
   "source": [
    "# Look at values of SMKSTAT2 \n",
    "adult_data_df['SMKSTAT2'].value_counts()\n",
    "\n"
   ]
  },
  {
   "cell_type": "code",
   "execution_count": null,
   "metadata": {},
   "outputs": [],
   "source": [
    "adult_outdata = adult_data_df.loc[:,['RECTYPE','SRVY_YR','HHX','FMX','FPX','REGION','WTFA_SA','COPDEV','AASMEV',\n",
    "                                     'AASSTILL','SMKSTAT2']]\n",
    "\n",
    "adult_outdata['HH with Smoker']=0\n",
    "\n",
    "for index, row in adult_outdata.iterrows():\n",
    "    \n",
    "    if adult_outdata.loc[index,'SMKSTAT2'] in (1,2,5):\n",
    "        adult_outdata.loc[index,'HH with Smoker'] = 1\n",
    "    \n",
    "    \n",
    "adult_outdata['HH with Smoker'].value_counts()"
   ]
  },
  {
   "cell_type": "code",
   "execution_count": null,
   "metadata": {},
   "outputs": [],
   "source": []
  },
  {
   "cell_type": "code",
   "execution_count": null,
   "metadata": {},
   "outputs": [],
   "source": [
    "adult_outdata.head()"
   ]
  },
  {
   "cell_type": "code",
   "execution_count": null,
   "metadata": {},
   "outputs": [],
   "source": [
    "child_outdata.head()"
   ]
  },
  {
   "cell_type": "code",
   "execution_count": null,
   "metadata": {},
   "outputs": [],
   "source": [
    "merge_adult_child = pd.merge(adult_outdata, child_outdata, on=[\"HHX\",\"FMX\"])\n",
    "merge_adult_child = merge_adult_child.loc[:,['HHX','FMX','HH with Smoker','HH with Asthmatic Child', 'HH with ADHD/ADD Child', 'HH with Autistic Child', 'HH with Child With Concentration/Emotional/Behavior Issues', 'WTFA_SA','WTFA_SC']]\n",
    "merge_adult_child.head()"
   ]
  },
  {
   "cell_type": "code",
   "execution_count": null,
   "metadata": {},
   "outputs": [],
   "source": [
    "family_merge = pd.merge(family_outdata, merge_adult_child, on=['HHX', 'FMX'])\n",
    "family_merge = family_merge.loc[:,['HHX','FMX', 'SRVY_YR', 'FM_SIZE', 'HH with Children', 'HH with Smoker','HH with Asthmatic Child', 'HH with Food Concern due to Money', 'HH with ADHD/ADD Child', 'HH with Autistic Child', 'HH with Child With Concentration/Emotional/Behavior Issues', 'WTFA_SA','WTFA_SC', 'WTFA_FAM']]\n",
    "family_merge.head()"
   ]
  },
  {
   "cell_type": "code",
   "execution_count": null,
   "metadata": {},
   "outputs": [],
   "source": [
    "# Use the value counts to determine the number of students\n",
    "smkcounts = merge_adult_child['HH with Smoker'].value_counts()\n",
    "\n",
    "# Convert the value counts into a dataframe\n",
    "hh_smk_counts = pd.DataFrame({'Smoker Flag':smkcounts.index, 'Count':smkcounts.values})\n",
    "\n",
    "check_smk_asthma = merge_adult_child.groupby(['HH with Smoker'])\n",
    "hh_smk_counts[\"Percent with Asthmatic Child\"] = 100 * check_smk_asthma[\"HH with Asthmatic Child\"].mean()\n",
    "hh_smk_counts[\"Number with Asthmatic Child\"] = check_smk_asthma[\"HH with Asthmatic Child\"].sum()\n",
    "hh_smk_counts"
   ]
  },
  {
   "cell_type": "code",
   "execution_count": null,
   "metadata": {},
   "outputs": [],
   "source": []
  },
  {
   "cell_type": "code",
   "execution_count": null,
   "metadata": {},
   "outputs": [],
   "source": [
    "# Create lists of child-asthma flags associated with smoking and nonsmoking households\n",
    "child_flags_for_smokers=[]\n",
    "child_flags_for_nonsmokers=[]\n",
    "\n",
    "for index, row in merge_adult_child.iterrows():\n",
    "    \n",
    "    if merge_adult_child.loc[index,'HH with Smoker'] == 1:\n",
    "        child_flags_for_smokers.append(merge_adult_child.loc[index,'HH with Asthmatic Child'])\n",
    "    else:\n",
    "        child_flags_for_nonsmokers.append(merge_adult_child.loc[index,'HH with Asthmatic Child'])\n",
    "\n",
    "\n",
    "# Run the t-test\n",
    "(t_stat, p) = stats.ttest_ind(child_flags_for_smokers,child_flags_for_nonsmokers,equal_var=False)\n",
    "print(f\"p is {p}.\")\n",
    "if p < 0.05:\n",
    "    print(\"The difference in sample means is significant.\")\n",
    "else:\n",
    "    print(\"The difference in sample means is not significant.\")"
   ]
  },
  {
   "cell_type": "code",
   "execution_count": null,
   "metadata": {},
   "outputs": [],
   "source": []
  },
  {
   "cell_type": "code",
   "execution_count": null,
   "metadata": {},
   "outputs": [],
   "source": []
  }
 ],
 "metadata": {
  "kernelspec": {
   "display_name": "Python 3",
   "language": "python",
   "name": "python3"
  },
  "language_info": {
   "codemirror_mode": {
    "name": "ipython",
    "version": 3
   },
   "file_extension": ".py",
   "mimetype": "text/x-python",
   "name": "python",
   "nbconvert_exporter": "python",
   "pygments_lexer": "ipython3",
   "version": "3.7.3"
  }
 },
 "nbformat": 4,
 "nbformat_minor": 2
}
